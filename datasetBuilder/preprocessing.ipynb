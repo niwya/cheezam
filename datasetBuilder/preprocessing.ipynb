{
 "cells": [
  {
   "cell_type": "code",
   "execution_count": 1,
   "id": "4574592e-62fe-48d8-95b0-a3782ac30b69",
   "metadata": {},
   "outputs": [],
   "source": [
    "import os\n",
    "import numpy as np\n",
    "import cv2 \n",
    "import matplotlib.pyplot as plt\n",
    "import matplotlib.image as img\n",
    "import re"
   ]
  },
  {
   "cell_type": "code",
   "execution_count": 6,
   "id": "3f7918d5-a4cf-482e-8e8c-a04989672b80",
   "metadata": {},
   "outputs": [],
   "source": [
    "# Provenance folder is always ./downloads if image_scraper.py is used\n",
    "provenance_path = r\"./downloads\"\n",
    "destination_path = r\"./preprocessedImages/\"\n",
    "new_size = 256"
   ]
  },
  {
   "cell_type": "code",
   "execution_count": 3,
   "id": "e4e86e1e-efdc-4869-a373-b13e63dc621a",
   "metadata": {},
   "outputs": [],
   "source": [
    "def load_images_paths(path):\n",
    "    '''Load the path to each image from path folder in an array'''\n",
    "    images_array = [os.path.join(path,file) for file in os.listdir(path)]\n",
    "    return images_array\n",
    "\n",
    "def display_image(image):\n",
    "    '''Display one image'''\n",
    "    image_rgb = cv2.cvtColor(image, cv2.COLOR_BGR2RGB) # cv2 is BGR and pyplot RGB so need to convert to display\n",
    "    plt.imshow(image_rgb)\n",
    "    plt.xticks([]), plt.yticks([])\n",
    "    plt.show()\n",
    "    \n",
    "def display_image_RGB(image):\n",
    "    '''Display one image that's already in RGB'''\n",
    "    plt.imshow(image)\n",
    "    plt.xticks([]), plt.yticks([])\n",
    "    plt.show()\n",
    "    print(image.shape)\n",
    "    \n",
    "def load_image(path):\n",
    "    '''Load one image using its path'''\n",
    "    image = cv2.imread(path)\n",
    "    return image\n",
    "\n",
    "def resize_image(image, size):\n",
    "    '''Resize 1:1 image to size by size'''\n",
    "    dimensions = (size,size)\n",
    "    image_resized = cv2.resize(image,dimensions)\n",
    "    return image_resized\n",
    "\n",
    "def crop_image(image):\n",
    "    '''Crop image to 1:1 format'''\n",
    "    dimensions = image.shape\n",
    "    if dimensions[0] > dimensions[1]:\n",
    "        l = (dimensions[0]-dimensions[1])//2\n",
    "        cropped_image = image[l:dimensions[1]+l,:,:].copy()\n",
    "    else:\n",
    "        l = (dimensions[1]-dimensions[0])//2\n",
    "        cropped_image = image[:,l:dimensions[0]+l,:].copy()\n",
    "    return cropped_image\n",
    "    \n",
    "def preprocess_and_save_images(prov_folder, dest_folder):\n",
    "    '''Preprocess and save all images from prov_folder and save them in dest_folder'''\n",
    "    # First load all the images' paths\n",
    "    images_paths = [file for file in os.listdir(prov_folder)]\n",
    "    # And create the destination folder if it does not exist\n",
    "    if not os.path.exists(dest_folder):\n",
    "        os.makedirs(dest_folder)\n",
    "    # Then loop through each one of them\n",
    "    for image_path in images_paths:\n",
    "        try:\n",
    "            # Load the image\n",
    "            temp_image = load_image(os.path.join(prov_folder, image_path))\n",
    "            # Crop it\n",
    "            temp_image = crop_image(temp_image)\n",
    "            # Resize it\n",
    "            temp_image = resize_image(temp_image, new_size)\n",
    "            # And save it in the destination folder as png\n",
    "            file_name = re.search(r\"(.*)(?=\\.)\", image_path)\n",
    "            new_path = os.path.join(dest_folder,file_name.group(0) + '.png')\n",
    "            cv2.imwrite(new_path,temp_image)\n",
    "        except:\n",
    "            print(\"Image \" + file_name.group(0) + \" could not be loaded/processed\")\n",
    "    print(\"Saved all preprocessed images to desired folder\")\n",
    "        "
   ]
  },
  {
   "cell_type": "code",
   "execution_count": 7,
   "id": "909b20a5-2e8b-4cb4-9a2a-5296a0a945b1",
   "metadata": {},
   "outputs": [
    {
     "name": "stdout",
     "output_type": "stream",
     "text": [
      "Saved all preprocessed images to desired folder\n",
      "Saved all preprocessed images to desired folder\n"
     ]
    }
   ],
   "source": [
    "# Chose all subfolders from provenance_path that you want to preprocess images from\n",
    "subfolders = ['morbier']\n",
    "for root, dirs, files in os.walk(provenance_path):\n",
    "    for name in dirs:\n",
    "        subfolders.append(name)\n",
    "        \n",
    "for subfolder in subfolders:\n",
    "    preprocess_and_save_images(os.path.join(provenance_path, subfolder), os.path.join(destination_path, subfolder))"
   ]
  }
 ],
 "metadata": {
  "kernelspec": {
   "display_name": "cheezam",
   "language": "python",
   "name": "cheezam"
  },
  "language_info": {
   "codemirror_mode": {
    "name": "ipython",
    "version": 3
   },
   "file_extension": ".py",
   "mimetype": "text/x-python",
   "name": "python",
   "nbconvert_exporter": "python",
   "pygments_lexer": "ipython3",
   "version": "3.9.10"
  },
  "vscode": {
   "interpreter": {
    "hash": "0efbb390bea81b1bcc6f481fb4153f6993967ab1d95483229e7a4e29d137dbfd"
   }
  }
 },
 "nbformat": 4,
 "nbformat_minor": 5
}
