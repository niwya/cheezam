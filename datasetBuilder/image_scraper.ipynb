{
 "cells": [
  {
   "cell_type": "code",
   "execution_count": 1,
   "id": "a5a266a7-be9f-47db-8233-44d531ee803d",
   "metadata": {},
   "outputs": [],
   "source": [
    "from google_images_download import google_images_download"
   ]
  },
  {
   "cell_type": "code",
   "execution_count": 2,
   "id": "78120d68",
   "metadata": {},
   "outputs": [],
   "source": [
    "# Path to chromedriver\n",
    "chromedriver_path = r\"C:\\Users\\chloe\\Documents\\GitFolders\\cheezam\\datasetBuilder\\chromedriver\""
   ]
  },
  {
   "cell_type": "code",
   "execution_count": 3,
   "id": "7f55986b",
   "metadata": {},
   "outputs": [],
   "source": [
    "# All desired queries within a single string, each separated by a comma\n",
    "keywords = \"morbier, morbier cheese, fromage morbier\""
   ]
  },
  {
   "cell_type": "code",
   "execution_count": 4,
   "id": "5c11d430-8700-437a-989a-c7500faf7243",
   "metadata": {},
   "outputs": [
    {
     "name": "stdout",
     "output_type": "stream",
     "text": [
      "\n",
      "Item no.: 1 --> Item name = pizza\n",
      "Evaluating...\n",
      "Getting you a lot of images. This may take a few moments...\n"
     ]
    },
    {
     "ename": "AttributeError",
     "evalue": "'WebDriver' object has no attribute 'find_element_by_tag_name'",
     "output_type": "error",
     "traceback": [
      "\u001b[1;31m---------------------------------------------------------------------------\u001b[0m",
      "\u001b[1;31mAttributeError\u001b[0m                            Traceback (most recent call last)",
      "\u001b[1;32mc:\\Users\\chloe\\Documents\\GitFolders\\cheezam\\datasetBuilder\\image_scraper.ipynb Cell 4\u001b[0m in \u001b[0;36m<cell line: 3>\u001b[1;34m()\u001b[0m\n\u001b[0;32m      <a href='vscode-notebook-cell:/c%3A/Users/chloe/Documents/GitFolders/cheezam/datasetBuilder/image_scraper.ipynb#ch0000003?line=0'>1</a>\u001b[0m response \u001b[39m=\u001b[39m google_images_download\u001b[39m.\u001b[39mgoogleimagesdownload()\n\u001b[0;32m      <a href='vscode-notebook-cell:/c%3A/Users/chloe/Documents/GitFolders/cheezam/datasetBuilder/image_scraper.ipynb#ch0000003?line=1'>2</a>\u001b[0m arguments \u001b[39m=\u001b[39m {\u001b[39m\"\u001b[39m\u001b[39mkeywords\u001b[39m\u001b[39m\"\u001b[39m:keywords,\u001b[39m\"\u001b[39m\u001b[39mlimit\u001b[39m\u001b[39m\"\u001b[39m:\u001b[39m300\u001b[39m,\u001b[39m\"\u001b[39m\u001b[39mprint_urls\u001b[39m\u001b[39m\"\u001b[39m:\u001b[39mTrue\u001b[39;00m, \u001b[39m\"\u001b[39m\u001b[39mchromedriver\u001b[39m\u001b[39m\"\u001b[39m:chromedriver_path}\n\u001b[1;32m----> <a href='vscode-notebook-cell:/c%3A/Users/chloe/Documents/GitFolders/cheezam/datasetBuilder/image_scraper.ipynb#ch0000003?line=2'>3</a>\u001b[0m paths \u001b[39m=\u001b[39m response\u001b[39m.\u001b[39;49mdownload(arguments)\n",
      "File \u001b[1;32mc:\\Users\\chloe\\Documents\\GitFolders\\cheezam\\venv\\lib\\site-packages\\google_images_download\\google_images_download.py:825\u001b[0m, in \u001b[0;36mgoogleimagesdownload.download\u001b[1;34m(self, arguments)\u001b[0m\n\u001b[0;32m    822\u001b[0m     \u001b[39mreturn\u001b[39;00m paths_agg,total_errors\n\u001b[0;32m    823\u001b[0m \u001b[39m# if the calling file contains params directly\u001b[39;00m\n\u001b[0;32m    824\u001b[0m \u001b[39melse\u001b[39;00m:\n\u001b[1;32m--> 825\u001b[0m     paths, errors \u001b[39m=\u001b[39m \u001b[39mself\u001b[39;49m\u001b[39m.\u001b[39;49mdownload_executor(arguments)\n\u001b[0;32m    826\u001b[0m     \u001b[39mfor\u001b[39;00m i \u001b[39min\u001b[39;00m paths:\n\u001b[0;32m    827\u001b[0m         paths_agg[i] \u001b[39m=\u001b[39m paths[i]\n",
      "File \u001b[1;32mc:\\Users\\chloe\\Documents\\GitFolders\\cheezam\\venv\\lib\\site-packages\\google_images_download\\google_images_download.py:945\u001b[0m, in \u001b[0;36mgoogleimagesdownload.download_executor\u001b[1;34m(self, arguments)\u001b[0m\n\u001b[0;32m    943\u001b[0m     raw_html \u001b[39m=\u001b[39m \u001b[39mself\u001b[39m\u001b[39m.\u001b[39mdownload_page(url)  \u001b[39m# download page\u001b[39;00m\n\u001b[0;32m    944\u001b[0m \u001b[39melse\u001b[39;00m:\n\u001b[1;32m--> 945\u001b[0m     raw_html \u001b[39m=\u001b[39m \u001b[39mself\u001b[39;49m\u001b[39m.\u001b[39;49mdownload_extended_page(url,arguments[\u001b[39m'\u001b[39;49m\u001b[39mchromedriver\u001b[39;49m\u001b[39m'\u001b[39;49m])\n\u001b[0;32m    947\u001b[0m \u001b[39mif\u001b[39;00m \u001b[39mnot\u001b[39;00m arguments[\u001b[39m\"\u001b[39m\u001b[39msilent_mode\u001b[39m\u001b[39m\"\u001b[39m]:\n\u001b[0;32m    948\u001b[0m     \u001b[39mif\u001b[39;00m arguments[\u001b[39m'\u001b[39m\u001b[39mno_download\u001b[39m\u001b[39m'\u001b[39m]:\n",
      "File \u001b[1;32mc:\\Users\\chloe\\Documents\\GitFolders\\cheezam\\venv\\lib\\site-packages\\google_images_download\\google_images_download.py:190\u001b[0m, in \u001b[0;36mgoogleimagesdownload.download_extended_page\u001b[1;34m(self, url, chromedriver)\u001b[0m\n\u001b[0;32m    187\u001b[0m time\u001b[39m.\u001b[39msleep(\u001b[39m1\u001b[39m)\n\u001b[0;32m    188\u001b[0m \u001b[39mprint\u001b[39m(\u001b[39m\"\u001b[39m\u001b[39mGetting you a lot of images. This may take a few moments...\u001b[39m\u001b[39m\"\u001b[39m)\n\u001b[1;32m--> 190\u001b[0m element \u001b[39m=\u001b[39m browser\u001b[39m.\u001b[39;49mfind_element_by_tag_name(\u001b[39m\"\u001b[39m\u001b[39mbody\u001b[39m\u001b[39m\"\u001b[39m)\n\u001b[0;32m    191\u001b[0m \u001b[39m# Scroll down\u001b[39;00m\n\u001b[0;32m    192\u001b[0m \u001b[39mfor\u001b[39;00m i \u001b[39min\u001b[39;00m \u001b[39mrange\u001b[39m(\u001b[39m30\u001b[39m):\n",
      "\u001b[1;31mAttributeError\u001b[0m: 'WebDriver' object has no attribute 'find_element_by_tag_name'"
     ]
    }
   ],
   "source": [
    "response = google_images_download.googleimagesdownload()\n",
    "arguments = {\"keywords\":keywords,\"limit\":400,\"print_urls\":True, \"chromedriver\":chromedriver_path}\n",
    "paths = response.download(arguments)"
   ]
  },
  {
   "cell_type": "code",
   "execution_count": null,
   "id": "35746715-5b48-4bef-b7ee-db76516355b4",
   "metadata": {},
   "outputs": [],
   "source": []
  },
  {
   "cell_type": "code",
   "execution_count": null,
   "id": "d28b3cb3-3855-4c1a-b6b3-8d5b98f96090",
   "metadata": {},
   "outputs": [],
   "source": []
  }
 ],
 "metadata": {
  "kernelspec": {
   "display_name": "cheezam",
   "language": "python",
   "name": "cheezam"
  },
  "language_info": {
   "codemirror_mode": {
    "name": "ipython",
    "version": 3
   },
   "file_extension": ".py",
   "mimetype": "text/x-python",
   "name": "python",
   "nbconvert_exporter": "python",
   "pygments_lexer": "ipython3",
   "version": "3.9.10"
  },
  "vscode": {
   "interpreter": {
    "hash": "0efbb390bea81b1bcc6f481fb4153f6993967ab1d95483229e7a4e29d137dbfd"
   }
  }
 },
 "nbformat": 4,
 "nbformat_minor": 5
}
