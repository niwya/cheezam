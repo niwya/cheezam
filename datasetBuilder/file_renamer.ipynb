{
 "cells": [
  {
   "cell_type": "code",
   "execution_count": 1,
   "id": "d084f9a9-7e76-46d9-b0f8-be61ecd40b22",
   "metadata": {},
   "outputs": [],
   "source": [
    "import os\n",
    "import re"
   ]
  },
  {
   "cell_type": "code",
   "execution_count": 4,
   "id": "a22da627-3946-4b60-9879-b28f40e9a006",
   "metadata": {},
   "outputs": [],
   "source": [
    "folder_path = r\".\\downloads\"\n",
    "desired_prefix = \"mozzarella\""
   ]
  },
  {
   "cell_type": "code",
   "execution_count": 5,
   "id": "16786689-4e7c-4048-bd7f-01dcbe41c05b",
   "metadata": {},
   "outputs": [
    {
     "name": "stdout",
     "output_type": "stream",
     "text": [
      "Images have been renamed\n"
     ]
    }
   ],
   "source": [
    "for count, filename in enumerate(os.listdir(folder_path)):\n",
    "    # Current file name\n",
    "    file_path = folder_path + \"\\\\\" + filename\n",
    "    # Finding the extension\n",
    "    ext = re.search(r\"[^.]*$\", filename)\n",
    "    # Desired name for current file\n",
    "    new_name = desired_prefix + str(count) + \".\" + ext.group(0)\n",
    "    new_name = folder_path + \"\\\\\" + new_name\n",
    "    os.rename(file_path,new_name)\n",
    "print(\"Images have been renamed\")"
   ]
  }
 ],
 "metadata": {
  "kernelspec": {
   "display_name": "Python 3.9.10 64-bit",
   "language": "python",
   "name": "python3"
  },
  "language_info": {
   "codemirror_mode": {
    "name": "ipython",
    "version": 3
   },
   "file_extension": ".py",
   "mimetype": "text/x-python",
   "name": "python",
   "nbconvert_exporter": "python",
   "pygments_lexer": "ipython3",
   "version": "3.9.10"
  },
  "vscode": {
   "interpreter": {
    "hash": "0efbb390bea81b1bcc6f481fb4153f6993967ab1d95483229e7a4e29d137dbfd"
   }
  }
 },
 "nbformat": 4,
 "nbformat_minor": 5
}
